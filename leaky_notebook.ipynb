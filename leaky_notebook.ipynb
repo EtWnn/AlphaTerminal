{
 "cells": [
  {
   "cell_type": "code",
   "execution_count": 1,
   "metadata": {},
   "outputs": [
    {
     "name": "stdout",
     "output_type": "stream",
     "text": [
      "2.0.0\n"
     ]
    }
   ],
   "source": [
    "from __future__ import absolute_import, division, print_function, unicode_literals\n",
    "\n",
    "# Install TensorFlow\n",
    "\n",
    "import tensorflow as tf\n",
    "print(tf.__version__)\n"
   ]
  },
  {
   "cell_type": "code",
   "execution_count": 2,
   "metadata": {},
   "outputs": [],
   "source": [
    "mnist = tf.keras.datasets.mnist\n",
    "\n",
    "(x_train, y_train), (x_test, y_test) = mnist.load_data()\n",
    "x_train, x_test = x_train / 255.0, x_test / 255.0\n"
   ]
  },
  {
   "cell_type": "code",
   "execution_count": 3,
   "metadata": {},
   "outputs": [],
   "source": [
    "model = tf.keras.models.Sequential([\n",
    "  tf.keras.layers.Flatten(input_shape=(28, 28)),\n",
    "  tf.keras.layers.Dense(128, activation='relu'),\n",
    "  tf.keras.layers.Dropout(0.2),\n",
    "  tf.keras.layers.Dense(10, activation='softmax')\n",
    "])\n",
    "\n",
    "model.compile(optimizer='adam',\n",
    "              loss='sparse_categorical_crossentropy',\n",
    "              metrics=['accuracy'])"
   ]
  },
  {
   "cell_type": "code",
   "execution_count": 5,
   "metadata": {},
   "outputs": [
    {
     "name": "stdout",
     "output_type": "stream",
     "text": [
      "Train on 60000 samples\n",
      "60000/60000 [==============================] - 4s 70us/sample - loss: 0.0639 - accuracy: 0.9801\n",
      "Train on 60000 samples\n",
      "60000/60000 [==============================] - 4s 66us/sample - loss: 0.0550 - accuracy: 0.9824\n",
      "Train on 60000 samples\n",
      "60000/60000 [==============================] - 4s 67us/sample - loss: 0.0530 - accuracy: 0.9825\n",
      "Train on 60000 samples\n",
      "60000/60000 [==============================] - 4s 66us/sample - loss: 0.0463 - accuracy: 0.9851\n",
      "Train on 60000 samples\n",
      "60000/60000 [==============================] - 4s 67us/sample - loss: 0.0435 - accuracy: 0.9852\n",
      "Train on 60000 samples\n",
      "60000/60000 [==============================] - 4s 71us/sample - loss: 0.0406 - accuracy: 0.9865\n",
      "Train on 60000 samples\n",
      "60000/60000 [==============================] - 4s 67us/sample - loss: 0.0364 - accuracy: 0.9873\n",
      "Train on 60000 samples\n",
      "60000/60000 [==============================] - 4s 67us/sample - loss: 0.0357 - accuracy: 0.9883\n",
      "Train on 60000 samples\n",
      "60000/60000 [==============================] - 4s 66us/sample - loss: 0.0332 - accuracy: 0.9887\n",
      "Train on 60000 samples\n",
      "60000/60000 [==============================] - 4s 66us/sample - loss: 0.0321 - accuracy: 0.9891\n"
     ]
    }
   ],
   "source": [
    "for i in range(10):\n",
    "    model.fit(x_train, y_train, epochs=1)"
   ]
  },
  {
   "cell_type": "code",
   "execution_count": null,
   "metadata": {},
   "outputs": [],
   "source": []
  }
 ],
 "metadata": {
  "kernelspec": {
   "display_name": "Python 3",
   "language": "python",
   "name": "python3"
  },
  "language_info": {
   "codemirror_mode": {
    "name": "ipython",
    "version": 3
   },
   "file_extension": ".py",
   "mimetype": "text/x-python",
   "name": "python",
   "nbconvert_exporter": "python",
   "pygments_lexer": "ipython3",
   "version": "3.6.10"
  }
 },
 "nbformat": 4,
 "nbformat_minor": 2
}
